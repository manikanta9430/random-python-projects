{
 "cells": [
  {
   "cell_type": "code",
   "execution_count": 3,
   "metadata": {},
   "outputs": [
    {
     "name": "stdout",
     "output_type": "stream",
     "text": [
      "Total Num of Chars in Animals : 26, and Average length is : 5.2\n"
     ]
    }
   ],
   "source": [
    "animals = [\"Goat\",\"Lion\",\"Giraffe\",\"Horse\",\"Rabbit\"]\n",
    "chars=0\n",
    "for _ in animals:\n",
    "    chars += len(_)\n",
    "print(\"Total Num of Chars in Animals : {}, and Average length is : {}\".format(chars,chars/len(animals)))"
   ]
  },
  {
   "cell_type": "code",
   "execution_count": 6,
   "metadata": {},
   "outputs": [
    {
     "name": "stdout",
     "output_type": "stream",
     "text": [
      "1 - Mani\n",
      "2 - Yovaraj\n",
      "3 - Shubam\n"
     ]
    }
   ],
   "source": [
    "winners = [\"Mani\", \"Yovaraj\",\"Shubam\"]\n",
    "for i,p in enumerate(winners):\n",
    "    print(\"{} - {}\".format(i+1,p))"
   ]
  },
  {
   "cell_type": "code",
   "execution_count": 10,
   "metadata": {},
   "outputs": [],
   "source": [
    "def full_mails(people):\n",
    "    result=[]\n",
    "    for email, name in people:\n",
    "        result.append(\"{} <{}>\".format(name,email))\n",
    "    return result"
   ]
  },
  {
   "cell_type": "code",
   "execution_count": 11,
   "metadata": {},
   "outputs": [
    {
     "name": "stdout",
     "output_type": "stream",
     "text": [
      "['Mani <manikanta@lpu.in>', 'Lilly <Lilly@hotmail.com>']\n"
     ]
    }
   ],
   "source": [
    "print(full_mails([(\"manikanta@lpu.in\",\"Mani\"),(\"Lilly@hotmail.com\",\"Lilly\")]))"
   ]
  },
  {
   "cell_type": "code",
   "execution_count": 12,
   "metadata": {},
   "outputs": [
    {
     "name": "stdout",
     "output_type": "stream",
     "text": [
      "[7, 14, 21, 28, 35, 42, 49, 56, 63, 70]\n"
     ]
    }
   ],
   "source": [
    "print([x*7 for x in range(1,11)])"
   ]
  },
  {
   "cell_type": "code",
   "execution_count": 14,
   "metadata": {},
   "outputs": [
    {
     "name": "stdout",
     "output_type": "stream",
     "text": [
      "[0, 3, 6, 9, 12, 15, 18, 21, 24, 27, 30, 33, 36, 39, 42, 45, 48, 51, 54, 57, 60, 63, 66, 69, 72, 75, 78, 81, 84, 87, 90, 93, 96, 99]\n"
     ]
    }
   ],
   "source": [
    "print([x for x in range(100) if x%3 ==0])"
   ]
  },
  {
   "cell_type": "code",
   "execution_count": null,
   "metadata": {},
   "outputs": [],
   "source": []
  }
 ],
 "metadata": {
  "interpreter": {
   "hash": "8b03d4cd05d71d535371b426da57de743181e37d8974a9636efe6e78873daaed"
  },
  "kernelspec": {
   "display_name": "Python 3.9.6 64-bit",
   "language": "python",
   "name": "python3"
  },
  "language_info": {
   "codemirror_mode": {
    "name": "ipython",
    "version": 3
   },
   "file_extension": ".py",
   "mimetype": "text/x-python",
   "name": "python",
   "nbconvert_exporter": "python",
   "pygments_lexer": "ipython3",
   "version": "3.9.6"
  },
  "orig_nbformat": 4
 },
 "nbformat": 4,
 "nbformat_minor": 2
}
